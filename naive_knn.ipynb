{
 "cells": [
  {
   "cell_type": "code",
   "execution_count": 1,
   "metadata": {},
   "outputs": [],
   "source": [
    "import pandas as pd\n",
    "import numpy as np\n",
    "import time"
   ]
  },
  {
   "cell_type": "code",
   "execution_count": 2,
   "metadata": {},
   "outputs": [],
   "source": [
    "train = pd.read_csv('MNIST_train_small.csv', sep=',', header=None).values\n",
    "test = pd.read_csv('MNIST_test_small.csv', sep=',', header=None).values\n",
    "train_X = train[:, 1:]\n",
    "train_Y = train[:, 0]\n",
    "test_X = test[:, 1:]\n",
    "test_Y = test[:, 0]"
   ]
  },
  {
   "cell_type": "code",
   "execution_count": 3,
   "metadata": {},
   "outputs": [],
   "source": [
    "def euclidean_dist(vec1, vec2):\n",
    "    return np.linalg.norm(vec1 - vec2)"
   ]
  },
  {
   "cell_type": "code",
   "execution_count": 4,
   "metadata": {},
   "outputs": [],
   "source": [
    "def precompute_distances(X_train):\n",
    "    dists = {}\n",
    "    for x in range(len(X_train)):\n",
    "        for y in range(len(X_train)):\n",
    "            if x != y:\n",
    "                dists[(x, y)] = euclidean_dist(X_train[x], X_train[y])\n",
    "    return dists"
   ]
  },
  {
   "cell_type": "code",
   "execution_count": 5,
   "metadata": {},
   "outputs": [],
   "source": [
    "# precomputed_distances = precompute_distances(train_X)"
   ]
  },
  {
   "cell_type": "code",
   "execution_count": 6,
   "metadata": {},
   "outputs": [],
   "source": [
    "def get_accuracy(method, knn, train_X, train_Y, test_X, test_Y): \n",
    "    start_time = int(round(time.time() * 1000))\n",
    "    correct = 0\n",
    "    for x in range(len(test_X)):\n",
    "        true_label = test_Y[x]\n",
    "        predicted_label = method(knn, train_X, train_Y, test_X[x])\n",
    "        if true_label == predicted_label:\n",
    "            correct += 1\n",
    "        if x % 100 == 0:\n",
    "            print(f'Current accuracy: {correct / (x + 1)}')\n",
    "            print(f'Points tested: {x + 1}, average time per point: {(int(round(time.time() * 1000)) - start_time) / (x + 1):.2f}ms\\n')\n",
    "    return correct / len(test_X)"
   ]
  },
  {
   "cell_type": "code",
   "execution_count": 7,
   "metadata": {},
   "outputs": [],
   "source": [
    "def naive_knn(knn, train_X, train_Y, example):\n",
    "    best_dists = np.array([euclidean_dist(train_X[x], example) for x in range(knn)])\n",
    "    indices = np.array(range(knn))\n",
    "    \n",
    "    for i in range(knn, len(train_X)):\n",
    "        dist = euclidean_dist(train_X[i], example)\n",
    "        if dist < np.max(best_dists):\n",
    "            index_to_replace = np.argmax(best_dists)\n",
    "            best_dists[index_to_replace] = dist;\n",
    "            indices[index_to_replace] = i\n",
    "    \n",
    "    # voting\n",
    "    nearest_classes = [train_Y[i] for i in indices]\n",
    "    predicted = np.argmax(np.bincount(nearest_classes))\n",
    "    \n",
    "    return predicted"
   ]
  },
  {
   "cell_type": "code",
   "execution_count": 8,
   "metadata": {},
   "outputs": [],
   "source": [
    "from tqdm import tqdm, tqdm_notebook"
   ]
  },
  {
   "cell_type": "code",
   "execution_count": 9,
   "metadata": {},
   "outputs": [],
   "source": [
    "# accuracies = []\n",
    "# for i in tqdm_notebook(range(1,20)):\n",
    "#     acc = get_accuracy(naive_knn, i, train_X, train_Y, test_X, test_Y)\n",
    "#     accuracies.append(acc)"
   ]
  }
 ],
 "metadata": {
  "kernelspec": {
   "display_name": "Python 3",
   "language": "python",
   "name": "python3"
  },
  "language_info": {
   "codemirror_mode": {
    "name": "ipython",
    "version": 3
   },
   "file_extension": ".py",
   "mimetype": "text/x-python",
   "name": "python",
   "nbconvert_exporter": "python",
   "pygments_lexer": "ipython3",
   "version": "3.7.3"
  }
 },
 "nbformat": 4,
 "nbformat_minor": 4
}
