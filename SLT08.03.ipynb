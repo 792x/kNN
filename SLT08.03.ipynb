{
 "cells": [
  {
   "cell_type": "code",
   "execution_count": 47,
   "metadata": {},
   "outputs": [],
   "source": [
    "import pandas as pd\n",
    "import numpy as np\n",
    "import matplotlib.pyplot as plt\n",
    "import seaborn as sns\n",
    "from tqdm import tqdm, tqdm_notebook, trange\n",
    "\n",
    "from sklearn.neighbors import KNeighborsClassifier\n",
    "from sklearn.neighbors import KDTree, DistanceMetric\n",
    "from sklearn.metrics import accuracy_score\n",
    "\n",
    "import warnings\n",
    "warnings.simplefilter('ignore')\n",
    "pd.set_option('display.float_format', lambda x: '%.5f' % x)\n",
    "\n",
    "from matplotlib.ticker import MaxNLocator"
   ]
  },
  {
   "cell_type": "code",
   "execution_count": null,
   "metadata": {},
   "outputs": [],
   "source": []
  },
  {
   "cell_type": "code",
   "execution_count": 48,
   "metadata": {},
   "outputs": [],
   "source": [
    "#train_full = pd.read_csv(\"MNIST_train.csv\")\n",
    "\n",
    "colnames = [\"dig\"] + [i for i in range(1, 28*28+1)]\n",
    "train = pd.read_csv(\"MNIST_train_small.csv\", names=colnames)\n",
    "test = pd.read_csv(\"MNIST_test_small.csv\", names=colnames)"
   ]
  },
  {
   "cell_type": "code",
   "execution_count": 49,
   "metadata": {},
   "outputs": [
    {
     "data": {
      "text/plain": [
       "((3000, 785), (1000, 785))"
      ]
     },
     "execution_count": 49,
     "metadata": {},
     "output_type": "execute_result"
    }
   ],
   "source": [
    "train.shape, test.shape"
   ]
  },
  {
   "cell_type": "code",
   "execution_count": 50,
   "metadata": {},
   "outputs": [],
   "source": [
    "X_train = train.values[:, 1:]\n",
    "y_train = train.values[:, 0]\n",
    "\n",
    "X_test = test.values[:, 1:]\n",
    "y_test = test.values[:, 0]"
   ]
  },
  {
   "cell_type": "markdown",
   "metadata": {},
   "source": [
    "### (a) Implementation"
   ]
  },
  {
   "cell_type": "code",
   "execution_count": 51,
   "metadata": {},
   "outputs": [],
   "source": [
    "import knn"
   ]
  },
  {
   "cell_type": "markdown",
   "metadata": {},
   "source": [
    "(a) Results for $k$ in $\\{ 1, ..., 20 \\}$."
   ]
  },
  {
   "cell_type": "code",
   "execution_count": 52,
   "metadata": {},
   "outputs": [],
   "source": [
    "cl = knn.KNN(algorithm='kd_tree') # 'brute'\n",
    "cl.fit(X_train, y_train)"
   ]
  },
  {
   "cell_type": "code",
   "execution_count": 53,
   "metadata": {},
   "outputs": [],
   "source": [
    "# clb = knn.KNN(algorithm='brute')\n",
    "# clb.fit(X_train, y_train)"
   ]
  },
  {
   "cell_type": "markdown",
   "metadata": {
    "pycharm": {
     "name": "#%% md\n"
    }
   },
   "source": [
    "Test accuracy/loss"
   ]
  },
  {
   "cell_type": "code",
   "execution_count": 54,
   "metadata": {},
   "outputs": [
    {
     "data": {
      "application/vnd.jupyter.widget-view+json": {
       "model_id": "6ba35e454f474320a93122aa81a3ea75",
       "version_major": 2,
       "version_minor": 0
      },
      "text/plain": [
       "HBox(children=(IntProgress(value=0, max=20), HTML(value='')))"
      ]
     },
     "metadata": {},
     "output_type": "display_data"
    },
    {
     "name": "stdout",
     "output_type": "stream",
     "text": [
      "\n"
     ]
    }
   ],
   "source": [
    "# Test accuracy/loss\n",
    "ks = range(1, 21)\n",
    "accs = []\n",
    "loss_values = []\n",
    "\n",
    "for k in tqdm_notebook(ks):\n",
    "    preds = cl.predict(X_test, k)\n",
    "    accuracy = accuracy_score(y_test, preds)\n",
    "\n",
    "    accs.append(accuracy)\n",
    "    loss_values.append(1-accuracy)"
   ]
  },
  {
   "cell_type": "code",
   "execution_count": 55,
   "metadata": {
    "pycharm": {
     "name": "#%%\n"
    },
    "scrolled": false
   },
   "outputs": [
    {
     "data": {
      "text/html": [
       "<div>\n",
       "<style scoped>\n",
       "    .dataframe tbody tr th:only-of-type {\n",
       "        vertical-align: middle;\n",
       "    }\n",
       "\n",
       "    .dataframe tbody tr th {\n",
       "        vertical-align: top;\n",
       "    }\n",
       "\n",
       "    .dataframe thead th {\n",
       "        text-align: right;\n",
       "    }\n",
       "</style>\n",
       "<table border=\"1\" class=\"dataframe\">\n",
       "  <thead>\n",
       "    <tr style=\"text-align: right;\">\n",
       "      <th></th>\n",
       "      <th>k</th>\n",
       "      <th>accuracy</th>\n",
       "      <th>loss</th>\n",
       "    </tr>\n",
       "  </thead>\n",
       "  <tbody>\n",
       "    <tr>\n",
       "      <th>0</th>\n",
       "      <td>1</td>\n",
       "      <td>0.91500</td>\n",
       "      <td>0.08500</td>\n",
       "    </tr>\n",
       "    <tr>\n",
       "      <th>1</th>\n",
       "      <td>2</td>\n",
       "      <td>0.91500</td>\n",
       "      <td>0.08500</td>\n",
       "    </tr>\n",
       "    <tr>\n",
       "      <th>2</th>\n",
       "      <td>3</td>\n",
       "      <td>0.92300</td>\n",
       "      <td>0.07700</td>\n",
       "    </tr>\n",
       "    <tr>\n",
       "      <th>3</th>\n",
       "      <td>4</td>\n",
       "      <td>0.92400</td>\n",
       "      <td>0.07600</td>\n",
       "    </tr>\n",
       "    <tr>\n",
       "      <th>4</th>\n",
       "      <td>5</td>\n",
       "      <td>0.92800</td>\n",
       "      <td>0.07200</td>\n",
       "    </tr>\n",
       "    <tr>\n",
       "      <th>5</th>\n",
       "      <td>6</td>\n",
       "      <td>0.92400</td>\n",
       "      <td>0.07600</td>\n",
       "    </tr>\n",
       "    <tr>\n",
       "      <th>6</th>\n",
       "      <td>7</td>\n",
       "      <td>0.92000</td>\n",
       "      <td>0.08000</td>\n",
       "    </tr>\n",
       "    <tr>\n",
       "      <th>7</th>\n",
       "      <td>8</td>\n",
       "      <td>0.91900</td>\n",
       "      <td>0.08100</td>\n",
       "    </tr>\n",
       "    <tr>\n",
       "      <th>8</th>\n",
       "      <td>9</td>\n",
       "      <td>0.91700</td>\n",
       "      <td>0.08300</td>\n",
       "    </tr>\n",
       "    <tr>\n",
       "      <th>9</th>\n",
       "      <td>10</td>\n",
       "      <td>0.91000</td>\n",
       "      <td>0.09000</td>\n",
       "    </tr>\n",
       "    <tr>\n",
       "      <th>10</th>\n",
       "      <td>11</td>\n",
       "      <td>0.90600</td>\n",
       "      <td>0.09400</td>\n",
       "    </tr>\n",
       "    <tr>\n",
       "      <th>11</th>\n",
       "      <td>12</td>\n",
       "      <td>0.90300</td>\n",
       "      <td>0.09700</td>\n",
       "    </tr>\n",
       "    <tr>\n",
       "      <th>12</th>\n",
       "      <td>13</td>\n",
       "      <td>0.90200</td>\n",
       "      <td>0.09800</td>\n",
       "    </tr>\n",
       "    <tr>\n",
       "      <th>13</th>\n",
       "      <td>14</td>\n",
       "      <td>0.89700</td>\n",
       "      <td>0.10300</td>\n",
       "    </tr>\n",
       "    <tr>\n",
       "      <th>14</th>\n",
       "      <td>15</td>\n",
       "      <td>0.89700</td>\n",
       "      <td>0.10300</td>\n",
       "    </tr>\n",
       "    <tr>\n",
       "      <th>15</th>\n",
       "      <td>16</td>\n",
       "      <td>0.89500</td>\n",
       "      <td>0.10500</td>\n",
       "    </tr>\n",
       "    <tr>\n",
       "      <th>16</th>\n",
       "      <td>17</td>\n",
       "      <td>0.89600</td>\n",
       "      <td>0.10400</td>\n",
       "    </tr>\n",
       "    <tr>\n",
       "      <th>17</th>\n",
       "      <td>18</td>\n",
       "      <td>0.88900</td>\n",
       "      <td>0.11100</td>\n",
       "    </tr>\n",
       "    <tr>\n",
       "      <th>18</th>\n",
       "      <td>19</td>\n",
       "      <td>0.88800</td>\n",
       "      <td>0.11200</td>\n",
       "    </tr>\n",
       "    <tr>\n",
       "      <th>19</th>\n",
       "      <td>20</td>\n",
       "      <td>0.88700</td>\n",
       "      <td>0.11300</td>\n",
       "    </tr>\n",
       "  </tbody>\n",
       "</table>\n",
       "</div>"
      ],
      "text/plain": [
       "     k  accuracy    loss\n",
       "0    1   0.91500 0.08500\n",
       "1    2   0.91500 0.08500\n",
       "2    3   0.92300 0.07700\n",
       "3    4   0.92400 0.07600\n",
       "4    5   0.92800 0.07200\n",
       "5    6   0.92400 0.07600\n",
       "6    7   0.92000 0.08000\n",
       "7    8   0.91900 0.08100\n",
       "8    9   0.91700 0.08300\n",
       "9   10   0.91000 0.09000\n",
       "10  11   0.90600 0.09400\n",
       "11  12   0.90300 0.09700\n",
       "12  13   0.90200 0.09800\n",
       "13  14   0.89700 0.10300\n",
       "14  15   0.89700 0.10300\n",
       "15  16   0.89500 0.10500\n",
       "16  17   0.89600 0.10400\n",
       "17  18   0.88900 0.11100\n",
       "18  19   0.88800 0.11200\n",
       "19  20   0.88700 0.11300"
      ]
     },
     "execution_count": 55,
     "metadata": {},
     "output_type": "execute_result"
    }
   ],
   "source": [
    "# Test accuracy/loss\n",
    "tab_test_metrics = pd.DataFrame(data={\"k\": ks, \"accuracy\": accs, \"loss\": loss_values})\n",
    "tab_test_metrics"
   ]
  },
  {
   "cell_type": "code",
   "execution_count": 56,
   "metadata": {
    "scrolled": true
   },
   "outputs": [
    {
     "name": "stdout",
     "output_type": "stream",
     "text": [
      "The best accuracy (0.928) on the TEST set is achieved with k = 5 \n"
     ]
    },
    {
     "data": {
      "image/png": "[encoded data removed]",
      "text/plain": [
       "<Figure size 432x288 with 1 Axes>"
      ]
     },
     "metadata": {
      "needs_background": "light"
     },
     "output_type": "display_data"
    }
   ],
   "source": [
    "plt.plot(ks, accs);\n",
    "plt.title(\"Test accuracy\");\n",
    "print(f\"The best accuracy ({max(tab_test_metrics['accuracy'].values)}) on the TEST set is achieved with k = {ks[np.argmax(tab_test_metrics['accuracy'].values)]} \")"
   ]
  },
  {
   "cell_type": "code",
   "execution_count": 57,
   "metadata": {},
   "outputs": [
    {
     "name": "stdout",
     "output_type": "stream",
     "text": [
      "The minimum loss (0.07199999999999995) on the TEST set is achieved with k = 5 \n"
     ]
    },
    {
     "data": {
      "image/png": "[encoded data removed]",
      "text/plain": [
       "<Figure size 432x288 with 1 Axes>"
      ]
     },
     "metadata": {
      "needs_background": "light"
     },
     "output_type": "display_data"
    }
   ],
   "source": [
    "plt.plot(ks, loss_values);\n",
    "plt.title(\"Test loss\");\n",
    "print(f\"The minimum loss ({min(tab_test_metrics['loss'].values)}) on the TEST set is achieved with k = {ks[np.argmin(tab_test_metrics['loss'].values)]} \")"
   ]
  },
  {
   "cell_type": "markdown",
   "metadata": {
    "pycharm": {
     "name": "#%% md\n"
    }
   },
   "source": [
    "Train accuracy/loss"
   ]
  },
  {
   "cell_type": "code",
   "execution_count": 58,
   "metadata": {},
   "outputs": [
    {
     "data": {
      "application/vnd.jupyter.widget-view+json": {
       "model_id": "f126b82ee28942fbb11b7deec492e4d5",
       "version_major": 2,
       "version_minor": 0
      },
      "text/plain": [
       "HBox(children=(IntProgress(value=0, max=20), HTML(value='')))"
      ]
     },
     "metadata": {},
     "output_type": "display_data"
    },
    {
     "name": "stdout",
     "output_type": "stream",
     "text": [
      "\n"
     ]
    }
   ],
   "source": [
    "# Train accuracy/loss\n",
    "ks = range(1, 21)\n",
    "accs = []\n",
    "loss_values = []\n",
    "\n",
    "for k in tqdm_notebook(ks):\n",
    "    preds = cl.predict(X_train, k)\n",
    "    accuracy = accuracy_score(y_train, preds)\n",
    "\n",
    "    accs.append(accuracy)\n",
    "    loss_values.append(1-accuracy)"
   ]
  },
  {
   "cell_type": "code",
   "execution_count": 59,
   "metadata": {
    "pycharm": {
     "name": "#%%\n"
    },
    "scrolled": false
   },
   "outputs": [
    {
     "data": {
      "text/html": [
       "<div>\n",
       "<style scoped>\n",
       "    .dataframe tbody tr th:only-of-type {\n",
       "        vertical-align: middle;\n",
       "    }\n",
       "\n",
       "    .dataframe tbody tr th {\n",
       "        vertical-align: top;\n",
       "    }\n",
       "\n",
       "    .dataframe thead th {\n",
       "        text-align: right;\n",
       "    }\n",
       "</style>\n",
       "<table border=\"1\" class=\"dataframe\">\n",
       "  <thead>\n",
       "    <tr style=\"text-align: right;\">\n",
       "      <th></th>\n",
       "      <th>k</th>\n",
       "      <th>accuracy</th>\n",
       "      <th>loss</th>\n",
       "    </tr>\n",
       "  </thead>\n",
       "  <tbody>\n",
       "    <tr>\n",
       "      <th>0</th>\n",
       "      <td>1</td>\n",
       "      <td>1.00000</td>\n",
       "      <td>0.00000</td>\n",
       "    </tr>\n",
       "    <tr>\n",
       "      <th>1</th>\n",
       "      <td>2</td>\n",
       "      <td>1.00000</td>\n",
       "      <td>0.00000</td>\n",
       "    </tr>\n",
       "    <tr>\n",
       "      <th>2</th>\n",
       "      <td>3</td>\n",
       "      <td>0.97267</td>\n",
       "      <td>0.02733</td>\n",
       "    </tr>\n",
       "    <tr>\n",
       "      <th>3</th>\n",
       "      <td>4</td>\n",
       "      <td>0.97300</td>\n",
       "      <td>0.02700</td>\n",
       "    </tr>\n",
       "    <tr>\n",
       "      <th>4</th>\n",
       "      <td>5</td>\n",
       "      <td>0.95933</td>\n",
       "      <td>0.04067</td>\n",
       "    </tr>\n",
       "    <tr>\n",
       "      <th>5</th>\n",
       "      <td>6</td>\n",
       "      <td>0.95733</td>\n",
       "      <td>0.04267</td>\n",
       "    </tr>\n",
       "    <tr>\n",
       "      <th>6</th>\n",
       "      <td>7</td>\n",
       "      <td>0.94867</td>\n",
       "      <td>0.05133</td>\n",
       "    </tr>\n",
       "    <tr>\n",
       "      <th>7</th>\n",
       "      <td>8</td>\n",
       "      <td>0.94667</td>\n",
       "      <td>0.05333</td>\n",
       "    </tr>\n",
       "    <tr>\n",
       "      <th>8</th>\n",
       "      <td>9</td>\n",
       "      <td>0.93767</td>\n",
       "      <td>0.06233</td>\n",
       "    </tr>\n",
       "    <tr>\n",
       "      <th>9</th>\n",
       "      <td>10</td>\n",
       "      <td>0.93733</td>\n",
       "      <td>0.06267</td>\n",
       "    </tr>\n",
       "    <tr>\n",
       "      <th>10</th>\n",
       "      <td>11</td>\n",
       "      <td>0.92933</td>\n",
       "      <td>0.07067</td>\n",
       "    </tr>\n",
       "    <tr>\n",
       "      <th>11</th>\n",
       "      <td>12</td>\n",
       "      <td>0.92967</td>\n",
       "      <td>0.07033</td>\n",
       "    </tr>\n",
       "    <tr>\n",
       "      <th>12</th>\n",
       "      <td>13</td>\n",
       "      <td>0.92467</td>\n",
       "      <td>0.07533</td>\n",
       "    </tr>\n",
       "    <tr>\n",
       "      <th>13</th>\n",
       "      <td>14</td>\n",
       "      <td>0.92667</td>\n",
       "      <td>0.07333</td>\n",
       "    </tr>\n",
       "    <tr>\n",
       "      <th>14</th>\n",
       "      <td>15</td>\n",
       "      <td>0.91967</td>\n",
       "      <td>0.08033</td>\n",
       "    </tr>\n",
       "    <tr>\n",
       "      <th>15</th>\n",
       "      <td>16</td>\n",
       "      <td>0.91933</td>\n",
       "      <td>0.08067</td>\n",
       "    </tr>\n",
       "    <tr>\n",
       "      <th>16</th>\n",
       "      <td>17</td>\n",
       "      <td>0.91567</td>\n",
       "      <td>0.08433</td>\n",
       "    </tr>\n",
       "    <tr>\n",
       "      <th>17</th>\n",
       "      <td>18</td>\n",
       "      <td>0.91700</td>\n",
       "      <td>0.08300</td>\n",
       "    </tr>\n",
       "    <tr>\n",
       "      <th>18</th>\n",
       "      <td>19</td>\n",
       "      <td>0.91533</td>\n",
       "      <td>0.08467</td>\n",
       "    </tr>\n",
       "    <tr>\n",
       "      <th>19</th>\n",
       "      <td>20</td>\n",
       "      <td>0.91433</td>\n",
       "      <td>0.08567</td>\n",
       "    </tr>\n",
       "  </tbody>\n",
       "</table>\n",
       "</div>"
      ],
      "text/plain": [
       "     k  accuracy    loss\n",
       "0    1   1.00000 0.00000\n",
       "1    2   1.00000 0.00000\n",
       "2    3   0.97267 0.02733\n",
       "3    4   0.97300 0.02700\n",
       "4    5   0.95933 0.04067\n",
       "5    6   0.95733 0.04267\n",
       "6    7   0.94867 0.05133\n",
       "7    8   0.94667 0.05333\n",
       "8    9   0.93767 0.06233\n",
       "9   10   0.93733 0.06267\n",
       "10  11   0.92933 0.07067\n",
       "11  12   0.92967 0.07033\n",
       "12  13   0.92467 0.07533\n",
       "13  14   0.92667 0.07333\n",
       "14  15   0.91967 0.08033\n",
       "15  16   0.91933 0.08067\n",
       "16  17   0.91567 0.08433\n",
       "17  18   0.91700 0.08300\n",
       "18  19   0.91533 0.08467\n",
       "19  20   0.91433 0.08567"
      ]
     },
     "execution_count": 59,
     "metadata": {},
     "output_type": "execute_result"
    }
   ],
   "source": [
    "# Train accuracy/loss\n",
    "tab_train_metrics = pd.DataFrame(data={\"k\": ks, \"accuracy\": accs, \"loss\": loss_values})\n",
    "tab_train_metrics"
   ]
  },
  {
   "cell_type": "code",
   "execution_count": 60,
   "metadata": {},
   "outputs": [
    {
     "name": "stdout",
     "output_type": "stream",
     "text": [
      "The best accuracy (1.0) on the TRAIN set is achieved with k = 1 \n"
     ]
    },
    {
     "data": {
      "image/png": "[encoded data removed]",
      "text/plain": [
       "<Figure size 432x288 with 1 Axes>"
      ]
     },
     "metadata": {
      "needs_background": "light"
     },
     "output_type": "display_data"
    }
   ],
   "source": [
    "plt.plot(ks, accs);\n",
    "plt.title(\"Train accuracy\");\n",
    "print(f\"The best accuracy ({max(tab_train_metrics['accuracy'].values)}) on the TRAIN set is achieved with k = {ks[np.argmax(tab_train_metrics['accuracy'].values)]} \")"
   ]
  },
  {
   "cell_type": "code",
   "execution_count": null,
   "metadata": {},
   "outputs": [],
   "source": []
  },
  {
   "cell_type": "code",
   "execution_count": 61,
   "metadata": {},
   "outputs": [
    {
     "name": "stdout",
     "output_type": "stream",
     "text": [
      "The minimum loss (0.0) on the TRAIN set is achieved with k = 1 \n"
     ]
    },
    {
     "data": {
      "image/png": "[encoded data removed]",
      "text/plain": [
       "<Figure size 432x288 with 1 Axes>"
      ]
     },
     "metadata": {
      "needs_background": "light"
     },
     "output_type": "display_data"
    }
   ],
   "source": [
    "plt.plot(ks, loss_values);\n",
    "plt.title(\"Train loss\");\n",
    "print(f\"The minimum loss ({min(tab_train_metrics['loss'].values)}) on the TRAIN set is achieved with k = {ks[np.argmin(tab_train_metrics['loss'].values)]} \")"
   ]
  },
  {
   "cell_type": "code",
   "execution_count": 62,
   "metadata": {},
   "outputs": [],
   "source": [
    "tab_train_metrics.rename(columns={\"accuracy\": \"Train accuracy\", \"loss\": \"Train loss\"}, inplace=True)"
   ]
  },
  {
   "cell_type": "code",
   "execution_count": 63,
   "metadata": {},
   "outputs": [],
   "source": [
    "tab_test_metrics.rename(columns={\"accuracy\": \"Test accuracy\", \"loss\": \"Test loss\"}, inplace=True)"
   ]
  },
  {
   "cell_type": "code",
   "execution_count": 64,
   "metadata": {},
   "outputs": [],
   "source": [
    "tab_train_test_accuracy_loss = pd.merge(tab_train_metrics, tab_test_metrics)"
   ]
  },
  {
   "cell_type": "code",
   "execution_count": 65,
   "metadata": {},
   "outputs": [],
   "source": [
    "tab_train_test_accuracy_loss.round(5).to_csv(\"tab1.csv\")"
   ]
  },
  {
   "cell_type": "code",
   "execution_count": 66,
   "metadata": {},
   "outputs": [
    {
     "data": {
      "text/html": [
       "<div>\n",
       "<style scoped>\n",
       "    .dataframe tbody tr th:only-of-type {\n",
       "        vertical-align: middle;\n",
       "    }\n",
       "\n",
       "    .dataframe tbody tr th {\n",
       "        vertical-align: top;\n",
       "    }\n",
       "\n",
       "    .dataframe thead th {\n",
       "        text-align: right;\n",
       "    }\n",
       "</style>\n",
       "<table border=\"1\" class=\"dataframe\">\n",
       "  <thead>\n",
       "    <tr style=\"text-align: right;\">\n",
       "      <th></th>\n",
       "      <th>k</th>\n",
       "      <th>Train accuracy</th>\n",
       "      <th>Train loss</th>\n",
       "      <th>Test accuracy</th>\n",
       "      <th>Test loss</th>\n",
       "    </tr>\n",
       "  </thead>\n",
       "  <tbody>\n",
       "    <tr>\n",
       "      <th>0</th>\n",
       "      <td>1</td>\n",
       "      <td>1.00000</td>\n",
       "      <td>0.00000</td>\n",
       "      <td>0.91500</td>\n",
       "      <td>0.08500</td>\n",
       "    </tr>\n",
       "    <tr>\n",
       "      <th>1</th>\n",
       "      <td>2</td>\n",
       "      <td>1.00000</td>\n",
       "      <td>0.00000</td>\n",
       "      <td>0.91500</td>\n",
       "      <td>0.08500</td>\n",
       "    </tr>\n",
       "    <tr>\n",
       "      <th>2</th>\n",
       "      <td>3</td>\n",
       "      <td>0.97267</td>\n",
       "      <td>0.02733</td>\n",
       "      <td>0.92300</td>\n",
       "      <td>0.07700</td>\n",
       "    </tr>\n",
       "    <tr>\n",
       "      <th>3</th>\n",
       "      <td>4</td>\n",
       "      <td>0.97300</td>\n",
       "      <td>0.02700</td>\n",
       "      <td>0.92400</td>\n",
       "      <td>0.07600</td>\n",
       "    </tr>\n",
       "    <tr>\n",
       "      <th>4</th>\n",
       "      <td>5</td>\n",
       "      <td>0.95933</td>\n",
       "      <td>0.04067</td>\n",
       "      <td>0.92800</td>\n",
       "      <td>0.07200</td>\n",
       "    </tr>\n",
       "    <tr>\n",
       "      <th>5</th>\n",
       "      <td>6</td>\n",
       "      <td>0.95733</td>\n",
       "      <td>0.04267</td>\n",
       "      <td>0.92400</td>\n",
       "      <td>0.07600</td>\n",
       "    </tr>\n",
       "    <tr>\n",
       "      <th>6</th>\n",
       "      <td>7</td>\n",
       "      <td>0.94867</td>\n",
       "      <td>0.05133</td>\n",
       "      <td>0.92000</td>\n",
       "      <td>0.08000</td>\n",
       "    </tr>\n",
       "    <tr>\n",
       "      <th>7</th>\n",
       "      <td>8</td>\n",
       "      <td>0.94667</td>\n",
       "      <td>0.05333</td>\n",
       "      <td>0.91900</td>\n",
       "      <td>0.08100</td>\n",
       "    </tr>\n",
       "    <tr>\n",
       "      <th>8</th>\n",
       "      <td>9</td>\n",
       "      <td>0.93767</td>\n",
       "      <td>0.06233</td>\n",
       "      <td>0.91700</td>\n",
       "      <td>0.08300</td>\n",
       "    </tr>\n",
       "    <tr>\n",
       "      <th>9</th>\n",
       "      <td>10</td>\n",
       "      <td>0.93733</td>\n",
       "      <td>0.06267</td>\n",
       "      <td>0.91000</td>\n",
       "      <td>0.09000</td>\n",
       "    </tr>\n",
       "    <tr>\n",
       "      <th>10</th>\n",
       "      <td>11</td>\n",
       "      <td>0.92933</td>\n",
       "      <td>0.07067</td>\n",
       "      <td>0.90600</td>\n",
       "      <td>0.09400</td>\n",
       "    </tr>\n",
       "    <tr>\n",
       "      <th>11</th>\n",
       "      <td>12</td>\n",
       "      <td>0.92967</td>\n",
       "      <td>0.07033</td>\n",
       "      <td>0.90300</td>\n",
       "      <td>0.09700</td>\n",
       "    </tr>\n",
       "    <tr>\n",
       "      <th>12</th>\n",
       "      <td>13</td>\n",
       "      <td>0.92467</td>\n",
       "      <td>0.07533</td>\n",
       "      <td>0.90200</td>\n",
       "      <td>0.09800</td>\n",
       "    </tr>\n",
       "    <tr>\n",
       "      <th>13</th>\n",
       "      <td>14</td>\n",
       "      <td>0.92667</td>\n",
       "      <td>0.07333</td>\n",
       "      <td>0.89700</td>\n",
       "      <td>0.10300</td>\n",
       "    </tr>\n",
       "    <tr>\n",
       "      <th>14</th>\n",
       "      <td>15</td>\n",
       "      <td>0.91967</td>\n",
       "      <td>0.08033</td>\n",
       "      <td>0.89700</td>\n",
       "      <td>0.10300</td>\n",
       "    </tr>\n",
       "    <tr>\n",
       "      <th>15</th>\n",
       "      <td>16</td>\n",
       "      <td>0.91933</td>\n",
       "      <td>0.08067</td>\n",
       "      <td>0.89500</td>\n",
       "      <td>0.10500</td>\n",
       "    </tr>\n",
       "    <tr>\n",
       "      <th>16</th>\n",
       "      <td>17</td>\n",
       "      <td>0.91567</td>\n",
       "      <td>0.08433</td>\n",
       "      <td>0.89600</td>\n",
       "      <td>0.10400</td>\n",
       "    </tr>\n",
       "    <tr>\n",
       "      <th>17</th>\n",
       "      <td>18</td>\n",
       "      <td>0.91700</td>\n",
       "      <td>0.08300</td>\n",
       "      <td>0.88900</td>\n",
       "      <td>0.11100</td>\n",
       "    </tr>\n",
       "    <tr>\n",
       "      <th>18</th>\n",
       "      <td>19</td>\n",
       "      <td>0.91533</td>\n",
       "      <td>0.08467</td>\n",
       "      <td>0.88800</td>\n",
       "      <td>0.11200</td>\n",
       "    </tr>\n",
       "    <tr>\n",
       "      <th>19</th>\n",
       "      <td>20</td>\n",
       "      <td>0.91433</td>\n",
       "      <td>0.08567</td>\n",
       "      <td>0.88700</td>\n",
       "      <td>0.11300</td>\n",
       "    </tr>\n",
       "  </tbody>\n",
       "</table>\n",
       "</div>"
      ],
      "text/plain": [
       "     k  Train accuracy  Train loss  Test accuracy  Test loss\n",
       "0    1         1.00000     0.00000        0.91500    0.08500\n",
       "1    2         1.00000     0.00000        0.91500    0.08500\n",
       "2    3         0.97267     0.02733        0.92300    0.07700\n",
       "3    4         0.97300     0.02700        0.92400    0.07600\n",
       "4    5         0.95933     0.04067        0.92800    0.07200\n",
       "5    6         0.95733     0.04267        0.92400    0.07600\n",
       "6    7         0.94867     0.05133        0.92000    0.08000\n",
       "7    8         0.94667     0.05333        0.91900    0.08100\n",
       "8    9         0.93767     0.06233        0.91700    0.08300\n",
       "9   10         0.93733     0.06267        0.91000    0.09000\n",
       "10  11         0.92933     0.07067        0.90600    0.09400\n",
       "11  12         0.92967     0.07033        0.90300    0.09700\n",
       "12  13         0.92467     0.07533        0.90200    0.09800\n",
       "13  14         0.92667     0.07333        0.89700    0.10300\n",
       "14  15         0.91967     0.08033        0.89700    0.10300\n",
       "15  16         0.91933     0.08067        0.89500    0.10500\n",
       "16  17         0.91567     0.08433        0.89600    0.10400\n",
       "17  18         0.91700     0.08300        0.88900    0.11100\n",
       "18  19         0.91533     0.08467        0.88800    0.11200\n",
       "19  20         0.91433     0.08567        0.88700    0.11300"
      ]
     },
     "execution_count": 66,
     "metadata": {},
     "output_type": "execute_result"
    }
   ],
   "source": [
    "tab_train_test_accuracy_loss.round(5)"
   ]
  },
  {
   "cell_type": "code",
   "execution_count": null,
   "metadata": {},
   "outputs": [],
   "source": []
  },
  {
   "cell_type": "code",
   "execution_count": 67,
   "metadata": {},
   "outputs": [
    {
     "data": {
      "image/png": "[encoded data removed]",
      "text/plain": [
       "<Figure size 432x288 with 1 Axes>"
      ]
     },
     "metadata": {
      "needs_background": "light"
     },
     "output_type": "display_data"
    }
   ],
   "source": [
    "fig, ax = plt.subplots()\n",
    "#plt.title(\"Empirical loss for train/test sets\");\n",
    "plt.plot(ks, tab_train_test_accuracy_loss[\"Train loss\"], '-o', label=\"train loss\");\n",
    "plt.plot(ks, tab_train_test_accuracy_loss[\"Test loss\"], '-o', label=\"test loss\");\n",
    "plt.legend();\n",
    "ax.xaxis.set_major_locator(MaxNLocator(integer=True))\n",
    "plt.xlabel(\"k\");\n",
    "plt.ylabel(\"loss\");"
   ]
  },
  {
   "cell_type": "code",
   "execution_count": null,
   "metadata": {},
   "outputs": [],
   "source": []
  },
  {
   "cell_type": "markdown",
   "metadata": {
    "pycharm": {
     "name": "#%% md\n"
    }
   },
   "source": [
    "**??? Explain how ties are broken in Equation 1. ???**"
   ]
  },
  {
   "cell_type": "markdown",
   "metadata": {
    "pycharm": {
     "name": "#%% md\n"
    }
   },
   "source": [
    "### (b) Leave-One-Out Cross-Validation"
   ]
  },
  {
   "cell_type": "code",
   "execution_count": 68,
   "metadata": {},
   "outputs": [
    {
     "data": {
      "application/vnd.jupyter.widget-view+json": {
       "model_id": "f70f255c6f1b4ed58b55cbd330d4afe3",
       "version_major": 2,
       "version_minor": 0
      },
      "text/plain": [
       "HBox(children=(IntProgress(value=0, max=20), HTML(value='')))"
      ]
     },
     "metadata": {},
     "output_type": "display_data"
    },
    {
     "name": "stdout",
     "output_type": "stream",
     "text": [
      "\n"
     ]
    }
   ],
   "source": [
    "ks = range(1, 21)\n",
    "accs = []\n",
    "loss_values = []\n",
    "\n",
    "for k in tqdm_notebook(ks):\n",
    "    preds = cl.predict(X_train, k+1, exclude_nearest=True) # !\n",
    "    accuracy = accuracy_score(y_train, preds)\n",
    "\n",
    "    accs.append(accuracy)\n",
    "    loss_values.append(1-accuracy)"
   ]
  },
  {
   "cell_type": "code",
   "execution_count": 69,
   "metadata": {
    "pycharm": {
     "name": "#%%\n"
    }
   },
   "outputs": [
    {
     "data": {
      "text/html": [
       "<div>\n",
       "<style scoped>\n",
       "    .dataframe tbody tr th:only-of-type {\n",
       "        vertical-align: middle;\n",
       "    }\n",
       "\n",
       "    .dataframe tbody tr th {\n",
       "        vertical-align: top;\n",
       "    }\n",
       "\n",
       "    .dataframe thead th {\n",
       "        text-align: right;\n",
       "    }\n",
       "</style>\n",
       "<table border=\"1\" class=\"dataframe\">\n",
       "  <thead>\n",
       "    <tr style=\"text-align: right;\">\n",
       "      <th></th>\n",
       "      <th>k</th>\n",
       "      <th>accuracy</th>\n",
       "      <th>loss</th>\n",
       "    </tr>\n",
       "  </thead>\n",
       "  <tbody>\n",
       "    <tr>\n",
       "      <th>0</th>\n",
       "      <td>1</td>\n",
       "      <td>0.91933</td>\n",
       "      <td>0.08067</td>\n",
       "    </tr>\n",
       "    <tr>\n",
       "      <th>1</th>\n",
       "      <td>2</td>\n",
       "      <td>0.91933</td>\n",
       "      <td>0.08067</td>\n",
       "    </tr>\n",
       "    <tr>\n",
       "      <th>2</th>\n",
       "      <td>3</td>\n",
       "      <td>0.92700</td>\n",
       "      <td>0.07300</td>\n",
       "    </tr>\n",
       "    <tr>\n",
       "      <th>3</th>\n",
       "      <td>4</td>\n",
       "      <td>0.92700</td>\n",
       "      <td>0.07300</td>\n",
       "    </tr>\n",
       "    <tr>\n",
       "      <th>4</th>\n",
       "      <td>5</td>\n",
       "      <td>0.92167</td>\n",
       "      <td>0.07833</td>\n",
       "    </tr>\n",
       "    <tr>\n",
       "      <th>5</th>\n",
       "      <td>6</td>\n",
       "      <td>0.92100</td>\n",
       "      <td>0.07900</td>\n",
       "    </tr>\n",
       "    <tr>\n",
       "      <th>6</th>\n",
       "      <td>7</td>\n",
       "      <td>0.91833</td>\n",
       "      <td>0.08167</td>\n",
       "    </tr>\n",
       "    <tr>\n",
       "      <th>7</th>\n",
       "      <td>8</td>\n",
       "      <td>0.91767</td>\n",
       "      <td>0.08233</td>\n",
       "    </tr>\n",
       "    <tr>\n",
       "      <th>8</th>\n",
       "      <td>9</td>\n",
       "      <td>0.91667</td>\n",
       "      <td>0.08333</td>\n",
       "    </tr>\n",
       "    <tr>\n",
       "      <th>9</th>\n",
       "      <td>10</td>\n",
       "      <td>0.91133</td>\n",
       "      <td>0.08867</td>\n",
       "    </tr>\n",
       "    <tr>\n",
       "      <th>10</th>\n",
       "      <td>11</td>\n",
       "      <td>0.91200</td>\n",
       "      <td>0.08800</td>\n",
       "    </tr>\n",
       "    <tr>\n",
       "      <th>11</th>\n",
       "      <td>12</td>\n",
       "      <td>0.91100</td>\n",
       "      <td>0.08900</td>\n",
       "    </tr>\n",
       "    <tr>\n",
       "      <th>12</th>\n",
       "      <td>13</td>\n",
       "      <td>0.90767</td>\n",
       "      <td>0.09233</td>\n",
       "    </tr>\n",
       "    <tr>\n",
       "      <th>13</th>\n",
       "      <td>14</td>\n",
       "      <td>0.90700</td>\n",
       "      <td>0.09300</td>\n",
       "    </tr>\n",
       "    <tr>\n",
       "      <th>14</th>\n",
       "      <td>15</td>\n",
       "      <td>0.90567</td>\n",
       "      <td>0.09433</td>\n",
       "    </tr>\n",
       "    <tr>\n",
       "      <th>15</th>\n",
       "      <td>16</td>\n",
       "      <td>0.90500</td>\n",
       "      <td>0.09500</td>\n",
       "    </tr>\n",
       "    <tr>\n",
       "      <th>16</th>\n",
       "      <td>17</td>\n",
       "      <td>0.90433</td>\n",
       "      <td>0.09567</td>\n",
       "    </tr>\n",
       "    <tr>\n",
       "      <th>17</th>\n",
       "      <td>18</td>\n",
       "      <td>0.90433</td>\n",
       "      <td>0.09567</td>\n",
       "    </tr>\n",
       "    <tr>\n",
       "      <th>18</th>\n",
       "      <td>19</td>\n",
       "      <td>0.90233</td>\n",
       "      <td>0.09767</td>\n",
       "    </tr>\n",
       "    <tr>\n",
       "      <th>19</th>\n",
       "      <td>20</td>\n",
       "      <td>0.90167</td>\n",
       "      <td>0.09833</td>\n",
       "    </tr>\n",
       "  </tbody>\n",
       "</table>\n",
       "</div>"
      ],
      "text/plain": [
       "     k  accuracy    loss\n",
       "0    1   0.91933 0.08067\n",
       "1    2   0.91933 0.08067\n",
       "2    3   0.92700 0.07300\n",
       "3    4   0.92700 0.07300\n",
       "4    5   0.92167 0.07833\n",
       "5    6   0.92100 0.07900\n",
       "6    7   0.91833 0.08167\n",
       "7    8   0.91767 0.08233\n",
       "8    9   0.91667 0.08333\n",
       "9   10   0.91133 0.08867\n",
       "10  11   0.91200 0.08800\n",
       "11  12   0.91100 0.08900\n",
       "12  13   0.90767 0.09233\n",
       "13  14   0.90700 0.09300\n",
       "14  15   0.90567 0.09433\n",
       "15  16   0.90500 0.09500\n",
       "16  17   0.90433 0.09567\n",
       "17  18   0.90433 0.09567\n",
       "18  19   0.90233 0.09767\n",
       "19  20   0.90167 0.09833"
      ]
     },
     "execution_count": 69,
     "metadata": {},
     "output_type": "execute_result"
    }
   ],
   "source": [
    "# LOOCV accuracy/loss\n",
    "tab_loocv_metrics = pd.DataFrame(data={\"k\": ks, \"accuracy\": accs, \"loss\": loss_values})\n",
    "tab_loocv_metrics"
   ]
  },
  {
   "cell_type": "code",
   "execution_count": 70,
   "metadata": {},
   "outputs": [],
   "source": [
    "pd.set_option('display.float_format', lambda x: '%.5f' % x)"
   ]
  },
  {
   "cell_type": "code",
   "execution_count": 71,
   "metadata": {},
   "outputs": [
    {
     "data": {
      "text/html": [
       "<div>\n",
       "<style scoped>\n",
       "    .dataframe tbody tr th:only-of-type {\n",
       "        vertical-align: middle;\n",
       "    }\n",
       "\n",
       "    .dataframe tbody tr th {\n",
       "        vertical-align: top;\n",
       "    }\n",
       "\n",
       "    .dataframe thead th {\n",
       "        text-align: right;\n",
       "    }\n",
       "</style>\n",
       "<table border=\"1\" class=\"dataframe\">\n",
       "  <thead>\n",
       "    <tr style=\"text-align: right;\">\n",
       "      <th></th>\n",
       "      <th>k</th>\n",
       "      <th>LOOCV accuracy</th>\n",
       "      <th>LOOCV loss</th>\n",
       "    </tr>\n",
       "  </thead>\n",
       "  <tbody>\n",
       "    <tr>\n",
       "      <th>0</th>\n",
       "      <td>1</td>\n",
       "      <td>0.91933</td>\n",
       "      <td>0.08067</td>\n",
       "    </tr>\n",
       "    <tr>\n",
       "      <th>1</th>\n",
       "      <td>2</td>\n",
       "      <td>0.91933</td>\n",
       "      <td>0.08067</td>\n",
       "    </tr>\n",
       "    <tr>\n",
       "      <th>2</th>\n",
       "      <td>3</td>\n",
       "      <td>0.92700</td>\n",
       "      <td>0.07300</td>\n",
       "    </tr>\n",
       "    <tr>\n",
       "      <th>3</th>\n",
       "      <td>4</td>\n",
       "      <td>0.92700</td>\n",
       "      <td>0.07300</td>\n",
       "    </tr>\n",
       "    <tr>\n",
       "      <th>4</th>\n",
       "      <td>5</td>\n",
       "      <td>0.92167</td>\n",
       "      <td>0.07833</td>\n",
       "    </tr>\n",
       "    <tr>\n",
       "      <th>5</th>\n",
       "      <td>6</td>\n",
       "      <td>0.92100</td>\n",
       "      <td>0.07900</td>\n",
       "    </tr>\n",
       "    <tr>\n",
       "      <th>6</th>\n",
       "      <td>7</td>\n",
       "      <td>0.91833</td>\n",
       "      <td>0.08167</td>\n",
       "    </tr>\n",
       "    <tr>\n",
       "      <th>7</th>\n",
       "      <td>8</td>\n",
       "      <td>0.91767</td>\n",
       "      <td>0.08233</td>\n",
       "    </tr>\n",
       "    <tr>\n",
       "      <th>8</th>\n",
       "      <td>9</td>\n",
       "      <td>0.91667</td>\n",
       "      <td>0.08333</td>\n",
       "    </tr>\n",
       "    <tr>\n",
       "      <th>9</th>\n",
       "      <td>10</td>\n",
       "      <td>0.91133</td>\n",
       "      <td>0.08867</td>\n",
       "    </tr>\n",
       "    <tr>\n",
       "      <th>10</th>\n",
       "      <td>11</td>\n",
       "      <td>0.91200</td>\n",
       "      <td>0.08800</td>\n",
       "    </tr>\n",
       "    <tr>\n",
       "      <th>11</th>\n",
       "      <td>12</td>\n",
       "      <td>0.91100</td>\n",
       "      <td>0.08900</td>\n",
       "    </tr>\n",
       "    <tr>\n",
       "      <th>12</th>\n",
       "      <td>13</td>\n",
       "      <td>0.90767</td>\n",
       "      <td>0.09233</td>\n",
       "    </tr>\n",
       "    <tr>\n",
       "      <th>13</th>\n",
       "      <td>14</td>\n",
       "      <td>0.90700</td>\n",
       "      <td>0.09300</td>\n",
       "    </tr>\n",
       "    <tr>\n",
       "      <th>14</th>\n",
       "      <td>15</td>\n",
       "      <td>0.90567</td>\n",
       "      <td>0.09433</td>\n",
       "    </tr>\n",
       "    <tr>\n",
       "      <th>15</th>\n",
       "      <td>16</td>\n",
       "      <td>0.90500</td>\n",
       "      <td>0.09500</td>\n",
       "    </tr>\n",
       "    <tr>\n",
       "      <th>16</th>\n",
       "      <td>17</td>\n",
       "      <td>0.90433</td>\n",
       "      <td>0.09567</td>\n",
       "    </tr>\n",
       "    <tr>\n",
       "      <th>17</th>\n",
       "      <td>18</td>\n",
       "      <td>0.90433</td>\n",
       "      <td>0.09567</td>\n",
       "    </tr>\n",
       "    <tr>\n",
       "      <th>18</th>\n",
       "      <td>19</td>\n",
       "      <td>0.90233</td>\n",
       "      <td>0.09767</td>\n",
       "    </tr>\n",
       "    <tr>\n",
       "      <th>19</th>\n",
       "      <td>20</td>\n",
       "      <td>0.90167</td>\n",
       "      <td>0.09833</td>\n",
       "    </tr>\n",
       "  </tbody>\n",
       "</table>\n",
       "</div>"
      ],
      "text/plain": [
       "     k  LOOCV accuracy  LOOCV loss\n",
       "0    1         0.91933     0.08067\n",
       "1    2         0.91933     0.08067\n",
       "2    3         0.92700     0.07300\n",
       "3    4         0.92700     0.07300\n",
       "4    5         0.92167     0.07833\n",
       "5    6         0.92100     0.07900\n",
       "6    7         0.91833     0.08167\n",
       "7    8         0.91767     0.08233\n",
       "8    9         0.91667     0.08333\n",
       "9   10         0.91133     0.08867\n",
       "10  11         0.91200     0.08800\n",
       "11  12         0.91100     0.08900\n",
       "12  13         0.90767     0.09233\n",
       "13  14         0.90700     0.09300\n",
       "14  15         0.90567     0.09433\n",
       "15  16         0.90500     0.09500\n",
       "16  17         0.90433     0.09567\n",
       "17  18         0.90433     0.09567\n",
       "18  19         0.90233     0.09767\n",
       "19  20         0.90167     0.09833"
      ]
     },
     "execution_count": 71,
     "metadata": {},
     "output_type": "execute_result"
    }
   ],
   "source": [
    "tab_loocv_metrics.rename(columns={\"accuracy\": \"LOOCV accuracy\", \"loss\": \"LOOCV loss\"})"
   ]
  },
  {
   "cell_type": "code",
   "execution_count": 72,
   "metadata": {},
   "outputs": [
    {
     "name": "stdout",
     "output_type": "stream",
     "text": [
      "The best LOOCV accuracy (0.927) (using only TRAIN set) is achieved with k = 3\n"
     ]
    },
    {
     "data": {
      "image/png": "[encoded data removed]",
      "text/plain": [
       "<Figure size 432x288 with 1 Axes>"
      ]
     },
     "metadata": {
      "needs_background": "light"
     },
     "output_type": "display_data"
    }
   ],
   "source": [
    "plt.plot(ks, accs);\n",
    "plt.title(\"LOOCV accuracy\");\n",
    "print(f\"The best LOOCV accuracy ({max(tab_loocv_metrics['accuracy'].values)}) (using only TRAIN set) is achieved with k = {ks[np.argmax(tab_loocv_metrics['accuracy'].values)]}\")"
   ]
  },
  {
   "cell_type": "code",
   "execution_count": 73,
   "metadata": {},
   "outputs": [
    {
     "name": "stdout",
     "output_type": "stream",
     "text": [
      "The minimum LOOCV loss (0.07299999999999995) is achieved with k = 3 \n"
     ]
    },
    {
     "data": {
      "image/png": "[encoded data removed]",
      "text/plain": [
       "<Figure size 432x288 with 1 Axes>"
      ]
     },
     "metadata": {
      "needs_background": "light"
     },
     "output_type": "display_data"
    }
   ],
   "source": [
    "plt.plot(ks, loss_values);\n",
    "plt.title(\"LOOCV loss\");\n",
    "print(f\"The minimum LOOCV loss ({min(tab_loocv_metrics['loss'].values)}) is achieved with k = {ks[np.argmin(tab_loocv_metrics['loss'].values)]} \")"
   ]
  },
  {
   "cell_type": "code",
   "execution_count": 75,
   "metadata": {
    "pycharm": {
     "name": "#%%\n"
    }
   },
   "outputs": [
    {
     "data": {
      "image/png": "[encoded data removed]",
      "text/plain": [
       "<Figure size 432x288 with 1 Axes>"
      ]
     },
     "metadata": {
      "needs_background": "light"
     },
     "output_type": "display_data"
    }
   ],
   "source": [
    "fig, ax = plt.subplots()\n",
    "#plt.title(\"Empirical loss for train set using LOOCV and for test set\");\n",
    "plt.plot(ks, tab_test_metrics['Test loss'], '-o', label='test loss');\n",
    "plt.plot(ks, tab_loocv_metrics['loss'], '-o', label='loocv loss');\n",
    "plt.legend();\n",
    "ax.xaxis.set_major_locator(MaxNLocator(integer=True))\n",
    "plt.xlabel('k');\n",
    "plt.ylabel('loss');\n",
    "\n",
    "# k=3 looks like the best value, chosen on cross-validation"
   ]
  },
  {
   "cell_type": "markdown",
   "metadata": {},
   "source": [
    "### (c) LOOCV for both k and distance p."
   ]
  },
  {
   "cell_type": "code",
   "execution_count": 6,
   "metadata": {},
   "outputs": [
    {
     "data": {
      "application/vnd.jupyter.widget-view+json": {
       "model_id": "6b5d05ee22ba4160919c5d64e1f7e3d8",
       "version_major": 2,
       "version_minor": 0
      },
      "text/plain": [
       "HBox(children=(IntProgress(value=0, max=15), HTML(value='')))"
      ]
     },
     "metadata": {},
     "output_type": "display_data"
    },
    {
     "data": {
      "application/vnd.jupyter.widget-view+json": {
       "model_id": "2c39cdbb08994411b349eb93b3f305fa",
       "version_major": 2,
       "version_minor": 0
      },
      "text/plain": [
       "HBox(children=(IntProgress(value=0, max=20), HTML(value='')))"
      ]
     },
     "metadata": {},
     "output_type": "display_data"
    },
    {
     "data": {
      "application/vnd.jupyter.widget-view+json": {
       "model_id": "f3dba4797587445783818f8d226d9755",
       "version_major": 2,
       "version_minor": 0
      },
      "text/plain": [
       "HBox(children=(IntProgress(value=0, max=20), HTML(value='')))"
      ]
     },
     "metadata": {},
     "output_type": "display_data"
    },
    {
     "data": {
      "application/vnd.jupyter.widget-view+json": {
       "model_id": "71581e103dc54d68ac8ca077db770230",
       "version_major": 2,
       "version_minor": 0
      },
      "text/plain": [
       "HBox(children=(IntProgress(value=0, max=20), HTML(value='')))"
      ]
     },
     "metadata": {},
     "output_type": "display_data"
    },
    {
     "data": {
      "application/vnd.jupyter.widget-view+json": {
       "model_id": "0e05758dd4e743fba006fe450b5c87d1",
       "version_major": 2,
       "version_minor": 0
      },
      "text/plain": [
       "HBox(children=(IntProgress(value=0, max=20), HTML(value='')))"
      ]
     },
     "metadata": {},
     "output_type": "display_data"
    },
    {
     "data": {
      "application/vnd.jupyter.widget-view+json": {
       "model_id": "b43fd3bb25584c3085c27cd1d379c748",
       "version_major": 2,
       "version_minor": 0
      },
      "text/plain": [
       "HBox(children=(IntProgress(value=0, max=20), HTML(value='')))"
      ]
     },
     "metadata": {},
     "output_type": "display_data"
    },
    {
     "data": {
      "application/vnd.jupyter.widget-view+json": {
       "model_id": "7697a756068244c7a562f9ca92c71baa",
       "version_major": 2,
       "version_minor": 0
      },
      "text/plain": [
       "HBox(children=(IntProgress(value=0, max=20), HTML(value='')))"
      ]
     },
     "metadata": {},
     "output_type": "display_data"
    },
    {
     "data": {
      "application/vnd.jupyter.widget-view+json": {
       "model_id": "0e93643859f94b68bae88e0fc4346b49",
       "version_major": 2,
       "version_minor": 0
      },
      "text/plain": [
       "HBox(children=(IntProgress(value=0, max=20), HTML(value='')))"
      ]
     },
     "metadata": {},
     "output_type": "display_data"
    },
    {
     "data": {
      "application/vnd.jupyter.widget-view+json": {
       "model_id": "8a125ed320a4439395cbbad185512fa2",
       "version_major": 2,
       "version_minor": 0
      },
      "text/plain": [
       "HBox(children=(IntProgress(value=0, max=20), HTML(value='')))"
      ]
     },
     "metadata": {},
     "output_type": "display_data"
    },
    {
     "data": {
      "application/vnd.jupyter.widget-view+json": {
       "model_id": "be43cea172d44665bf242c653353e2c9",
       "version_major": 2,
       "version_minor": 0
      },
      "text/plain": [
       "HBox(children=(IntProgress(value=0, max=20), HTML(value='')))"
      ]
     },
     "metadata": {},
     "output_type": "display_data"
    },
    {
     "data": {
      "application/vnd.jupyter.widget-view+json": {
       "model_id": "ba224940524a40c298bb30b28d2fb30c",
       "version_major": 2,
       "version_minor": 0
      },
      "text/plain": [
       "HBox(children=(IntProgress(value=0, max=20), HTML(value='')))"
      ]
     },
     "metadata": {},
     "output_type": "display_data"
    },
    {
     "data": {
      "application/vnd.jupyter.widget-view+json": {
       "model_id": "6c6993797e724bfa8510c7e989e899fb",
       "version_major": 2,
       "version_minor": 0
      },
      "text/plain": [
       "HBox(children=(IntProgress(value=0, max=20), HTML(value='')))"
      ]
     },
     "metadata": {},
     "output_type": "display_data"
    },
    {
     "data": {
      "application/vnd.jupyter.widget-view+json": {
       "model_id": "cae2d89ee8b04aa9bb7115f4b85766cc",
       "version_major": 2,
       "version_minor": 0
      },
      "text/plain": [
       "HBox(children=(IntProgress(value=0, max=20), HTML(value='')))"
      ]
     },
     "metadata": {},
     "output_type": "display_data"
    },
    {
     "data": {
      "application/vnd.jupyter.widget-view+json": {
       "model_id": "0c2e0a3cc3554fa386e17e0da4969859",
       "version_major": 2,
       "version_minor": 0
      },
      "text/plain": [
       "HBox(children=(IntProgress(value=0, max=20), HTML(value='')))"
      ]
     },
     "metadata": {},
     "output_type": "display_data"
    },
    {
     "data": {
      "application/vnd.jupyter.widget-view+json": {
       "model_id": "3a10f3f832af497ba747b4074a1e31a4",
       "version_major": 2,
       "version_minor": 0
      },
      "text/plain": [
       "HBox(children=(IntProgress(value=0, max=20), HTML(value='')))"
      ]
     },
     "metadata": {},
     "output_type": "display_data"
    },
    {
     "data": {
      "application/vnd.jupyter.widget-view+json": {
       "model_id": "924b6b2429d646e6b08371bbc50847d1",
       "version_major": 2,
       "version_minor": 0
      },
      "text/plain": [
       "HBox(children=(IntProgress(value=0, max=20), HTML(value='')))"
      ]
     },
     "metadata": {},
     "output_type": "display_data"
    },
    {
     "name": "stdout",
     "output_type": "stream",
     "text": [
      "\n"
     ]
    }
   ],
   "source": [
    "ks = range(1, 21)\n",
    "ps = range(1, 16, 1)\n",
    "accs = []\n",
    "loss_values = []\n",
    "    \n",
    "for p in tqdm_notebook(ps):\n",
    "    cl = knn.KNN(algorithm='kd_tree', p=p) # 'brute'\n",
    "    cl.fit(X_train, y_train)\n",
    "    \n",
    "    for k in tqdm_notebook(ks):\n",
    "        preds = cl.predict(X_train, k+1, exclude_nearest=True) # !\n",
    "        accuracy = accuracy_score(y_train, preds)\n",
    "\n",
    "        accs.append(accuracy)\n",
    "        loss_values.append(1-accuracy)"
   ]
  },
  {
   "cell_type": "code",
   "execution_count": 8,
   "metadata": {},
   "outputs": [],
   "source": [
    "ksrange = list(ks) * 15"
   ]
  },
  {
   "cell_type": "code",
   "execution_count": 13,
   "metadata": {},
   "outputs": [],
   "source": [
    "psrange = []\n",
    "for i in range(1, 16, 1):\n",
    "    lk = [i]*20\n",
    "    psrange.extend(lk)"
   ]
  },
  {
   "cell_type": "code",
   "execution_count": 14,
   "metadata": {},
   "outputs": [
    {
     "data": {
      "text/plain": [
       "(300, 300)"
      ]
     },
     "execution_count": 14,
     "metadata": {},
     "output_type": "execute_result"
    }
   ],
   "source": [
    "len(ksrange), len(psrange)"
   ]
  },
  {
   "cell_type": "code",
   "execution_count": 19,
   "metadata": {},
   "outputs": [
    {
     "data": {
      "text/plain": [
       "(300, 300)"
      ]
     },
     "execution_count": 19,
     "metadata": {},
     "output_type": "execute_result"
    }
   ],
   "source": [
    "len(loss_values), len(accs)"
   ]
  },
  {
   "cell_type": "code",
   "execution_count": 20,
   "metadata": {},
   "outputs": [
    {
     "data": {
      "text/html": [
       "<div>\n",
       "<style scoped>\n",
       "    .dataframe tbody tr th:only-of-type {\n",
       "        vertical-align: middle;\n",
       "    }\n",
       "\n",
       "    .dataframe tbody tr th {\n",
       "        vertical-align: top;\n",
       "    }\n",
       "\n",
       "    .dataframe thead th {\n",
       "        text-align: right;\n",
       "    }\n",
       "</style>\n",
       "<table border=\"1\" class=\"dataframe\">\n",
       "  <thead>\n",
       "    <tr style=\"text-align: right;\">\n",
       "      <th></th>\n",
       "      <th>k</th>\n",
       "      <th>p</th>\n",
       "      <th>accuracy</th>\n",
       "      <th>loss</th>\n",
       "    </tr>\n",
       "  </thead>\n",
       "  <tbody>\n",
       "    <tr>\n",
       "      <th>0</th>\n",
       "      <td>1</td>\n",
       "      <td>1</td>\n",
       "      <td>0.91033</td>\n",
       "      <td>0.08967</td>\n",
       "    </tr>\n",
       "    <tr>\n",
       "      <th>1</th>\n",
       "      <td>2</td>\n",
       "      <td>1</td>\n",
       "      <td>0.91033</td>\n",
       "      <td>0.08967</td>\n",
       "    </tr>\n",
       "    <tr>\n",
       "      <th>2</th>\n",
       "      <td>3</td>\n",
       "      <td>1</td>\n",
       "      <td>0.91000</td>\n",
       "      <td>0.09000</td>\n",
       "    </tr>\n",
       "    <tr>\n",
       "      <th>3</th>\n",
       "      <td>4</td>\n",
       "      <td>1</td>\n",
       "      <td>0.91700</td>\n",
       "      <td>0.08300</td>\n",
       "    </tr>\n",
       "    <tr>\n",
       "      <th>4</th>\n",
       "      <td>5</td>\n",
       "      <td>1</td>\n",
       "      <td>0.90867</td>\n",
       "      <td>0.09133</td>\n",
       "    </tr>\n",
       "    <tr>\n",
       "      <th>...</th>\n",
       "      <td>...</td>\n",
       "      <td>...</td>\n",
       "      <td>...</td>\n",
       "      <td>...</td>\n",
       "    </tr>\n",
       "    <tr>\n",
       "      <th>295</th>\n",
       "      <td>16</td>\n",
       "      <td>15</td>\n",
       "      <td>0.92167</td>\n",
       "      <td>0.07833</td>\n",
       "    </tr>\n",
       "    <tr>\n",
       "      <th>296</th>\n",
       "      <td>17</td>\n",
       "      <td>15</td>\n",
       "      <td>0.92033</td>\n",
       "      <td>0.07967</td>\n",
       "    </tr>\n",
       "    <tr>\n",
       "      <th>297</th>\n",
       "      <td>18</td>\n",
       "      <td>15</td>\n",
       "      <td>0.91700</td>\n",
       "      <td>0.08300</td>\n",
       "    </tr>\n",
       "    <tr>\n",
       "      <th>298</th>\n",
       "      <td>19</td>\n",
       "      <td>15</td>\n",
       "      <td>0.91633</td>\n",
       "      <td>0.08367</td>\n",
       "    </tr>\n",
       "    <tr>\n",
       "      <th>299</th>\n",
       "      <td>20</td>\n",
       "      <td>15</td>\n",
       "      <td>0.91500</td>\n",
       "      <td>0.08500</td>\n",
       "    </tr>\n",
       "  </tbody>\n",
       "</table>\n",
       "<p>300 rows × 4 columns</p>\n",
       "</div>"
      ],
      "text/plain": [
       "      k   p  accuracy    loss\n",
       "0     1   1   0.91033 0.08967\n",
       "1     2   1   0.91033 0.08967\n",
       "2     3   1   0.91000 0.09000\n",
       "3     4   1   0.91700 0.08300\n",
       "4     5   1   0.90867 0.09133\n",
       "..   ..  ..       ...     ...\n",
       "295  16  15   0.92167 0.07833\n",
       "296  17  15   0.92033 0.07967\n",
       "297  18  15   0.91700 0.08300\n",
       "298  19  15   0.91633 0.08367\n",
       "299  20  15   0.91500 0.08500\n",
       "\n",
       "[300 rows x 4 columns]"
      ]
     },
     "execution_count": 20,
     "metadata": {},
     "output_type": "execute_result"
    }
   ],
   "source": [
    "# LOOCV accuracy/loss\n",
    "tab_c = pd.DataFrame(data={\"k\": ksrange, \"p\": psrange, \"accuracy\": accs, \"loss\": loss_values})\n",
    "tab_c"
   ]
  },
  {
   "cell_type": "raw",
   "metadata": {},
   "source": [
    "tab_c.to_csv(\"parameters_pk.csv\")"
   ]
  },
  {
   "cell_type": "code",
   "execution_count": 104,
   "metadata": {
    "scrolled": true
   },
   "outputs": [
    {
     "data": {
      "image/png": "[encoded data removed]",
      "text/plain": [
       "<Figure size 432x288 with 2 Axes>"
      ]
     },
     "metadata": {
      "needs_background": "light"
     },
     "output_type": "display_data"
    }
   ],
   "source": [
    "fig, ax = plt.subplots()\n",
    "cf = plt.contourf(tab_c[\"k\"].values.reshape(15, 20), tab_c[\"p\"].values.reshape(15, 20), tab_c[\"loss\"].values.reshape(15, 20),\n",
    "            alpha=1, cmap=plt.cm.get_cmap(\"viridis\"));\n",
    "cbar = fig.colorbar(cf, ax=ax, shrink=0.9)\n",
    "cbar.ax.set_ylabel('loss');\n",
    "ax.xaxis.set_major_locator(MaxNLocator(integer=True))\n",
    "\n",
    "plt.xlabel(\"k\");\n",
    "plt.ylabel(\"p\");\n",
    "#plt.legend();"
   ]
  },
  {
   "cell_type": "code",
   "execution_count": null,
   "metadata": {},
   "outputs": [],
   "source": [
    "implrt "
   ]
  },
  {
   "cell_type": "raw",
   "metadata": {},
   "source": [
    "plt.plot(ks, tab_c[tab_c[\"p\"]==1][\"accuracy\"], label=\"1\");\n",
    "plt.plot(ks, tab_c[tab_c[\"p\"]==3][\"accuracy\"], label=\"3\");\n",
    "plt.plot(ks, tab_c[tab_c[\"p\"]==5][\"accuracy\"], label=\"5\");\n",
    "plt.plot(ks, tab_c[tab_c[\"p\"]==7][\"accuracy\"], label=\"7\");\n",
    "plt.plot(ks, tab_c[tab_c[\"p\"]==9][\"accuracy\"], label=\"9\");\n",
    "plt.plot(ks, tab_c[tab_c[\"p\"]==11][\"accuracy\"], label=\"11\");\n",
    "plt.plot(ks, tab_c[tab_c[\"p\"]==13][\"accuracy\"], label=\"13\");\n",
    "plt.plot(ks, tab_c[tab_c[\"p\"]==15][\"accuracy\"], label=\"15\");"
   ]
  },
  {
   "cell_type": "code",
   "execution_count": 106,
   "metadata": {},
   "outputs": [
    {
     "data": {
      "image/png": "[encoded data removed]",
      "text/plain": [
       "<Figure size 432x288 with 1 Axes>"
      ]
     },
     "metadata": {
      "needs_background": "light"
     },
     "output_type": "display_data"
    }
   ],
   "source": [
    "fig, ax = plt.subplots()\n",
    "for i in [1, 3, 5, 7, 9, 11, 13, 15]:\n",
    "    plt.plot(ks, tab_c[tab_c[\"p\"]==i][\"loss\"], label=f\"p={i}\");\n",
    "\n",
    "plt.legend();\n",
    "ax.xaxis.set_major_locator(MaxNLocator(integer=True))\n",
    "plt.xlabel(\"k\");\n",
    "plt.ylabel(\"loss\");\n"
   ]
  },
  {
   "cell_type": "code",
   "execution_count": 41,
   "metadata": {},
   "outputs": [
    {
     "data": {
      "text/plain": [
       "k          3.00000\n",
       "p          8.00000\n",
       "accuracy   0.94233\n",
       "loss       0.05767\n",
       "Name: 142, dtype: float64"
      ]
     },
     "execution_count": 41,
     "metadata": {},
     "output_type": "execute_result"
    }
   ],
   "source": [
    "tab_c.iloc[tab_c[\"accuracy\"].argmax()]"
   ]
  },
  {
   "cell_type": "code",
   "execution_count": 119,
   "metadata": {},
   "outputs": [
    {
     "data": {
      "image/png": "[encoded data removed]",
      "text/plain": [
       "<Figure size 432x288 with 1 Axes>"
      ]
     },
     "metadata": {
      "needs_background": "light"
     },
     "output_type": "display_data"
    }
   ],
   "source": [
    "plt.plot(ps, tab_c[tab_c[\"k\"]==3][\"loss\"], \"-o\", label=\"k=3\", lw=1);\n",
    "plt.scatter(np.argmin(tab_c[tab_c[\"k\"]==3][\"loss\"].values)+1, np.min(tab_c[tab_c[\"k\"]==3][\"loss\"].values), \n",
    "            c='r', lw=5, label='p=8')\n",
    "plt.xlabel(\"p\");\n",
    "plt.ylabel(\"loss\");\n",
    "plt.legend();"
   ]
  },
  {
   "cell_type": "markdown",
   "metadata": {},
   "source": [
    "### (d)"
   ]
  },
  {
   "cell_type": "code",
   "execution_count": 133,
   "metadata": {},
   "outputs": [
    {
     "name": "stdout",
     "output_type": "stream",
     "text": [
      "[6 3 4 ... 1 1 7] 0.927\n",
      "Wall time: 11.3 s\n"
     ]
    }
   ],
   "source": [
    "%%time\n",
    "cl = knn.KNN(algorithm='kd_tree', p=2) # 'brute'\n",
    "cl.fit(X_train, y_train)\n",
    "\n",
    "k=3\n",
    "\n",
    "preds = cl.predict(X_train, k+1, exclude_nearest=True) # !\n",
    "accuracy = accuracy_score(y_train, preds)\n",
    "\n",
    "print(preds, accuracy)"
   ]
  },
  {
   "cell_type": "code",
   "execution_count": 134,
   "metadata": {},
   "outputs": [
    {
     "name": "stdout",
     "output_type": "stream",
     "text": [
      "[6 3 9 ... 3 1 7] 0.9423333333333334\n",
      "Wall time: 1min 52s\n"
     ]
    }
   ],
   "source": [
    "%%time\n",
    "cl = knn.KNN(algorithm='kd_tree', p=8) # 'brute'\n",
    "cl.fit(X_train, y_train)\n",
    "\n",
    "k=3\n",
    "\n",
    "preds = cl.predict(X_train, k+1, exclude_nearest=True) # !\n",
    "accuracy = accuracy_score(y_train, preds)\n",
    "\n",
    "print(preds, accuracy)"
   ]
  },
  {
   "cell_type": "code",
   "execution_count": 135,
   "metadata": {},
   "outputs": [
    {
     "data": {
      "text/plain": [
       "10.181818181818182"
      ]
     },
     "execution_count": 135,
     "metadata": {},
     "output_type": "execute_result"
    }
   ],
   "source": [
    "112/11"
   ]
  },
  {
   "cell_type": "code",
   "execution_count": null,
   "metadata": {},
   "outputs": [],
   "source": [
    "# For kdtree increasing p from 2 to 8 increases the time of LOOCV by a factor of 10"
   ]
  },
  {
   "cell_type": "code",
   "execution_count": 136,
   "metadata": {},
   "outputs": [
    {
     "name": "stdout",
     "output_type": "stream",
     "text": [
      "[6 3 4 ... 1 1 7] 0.927\n",
      "Wall time: 3min 59s\n"
     ]
    }
   ],
   "source": [
    "%%time\n",
    "cl = knn.KNN(algorithm='brute', p=2) # 'brute'\n",
    "cl.fit(X_train, y_train)\n",
    "\n",
    "k=3\n",
    "\n",
    "preds = cl.predict(X_train, k+1, exclude_nearest=True) # !\n",
    "accuracy = accuracy_score(y_train, preds)\n",
    "\n",
    "print(preds, accuracy)"
   ]
  },
  {
   "cell_type": "code",
   "execution_count": 137,
   "metadata": {},
   "outputs": [
    {
     "name": "stdout",
     "output_type": "stream",
     "text": [
      "[3 3 3 ... 6 6 3] 0.101\n",
      "Wall time: 4min 15s\n"
     ]
    }
   ],
   "source": [
    "%%time\n",
    "cl = knn.KNN(algorithm='brute', p=8) # 'brute'\n",
    "cl.fit(X_train, y_train)\n",
    "\n",
    "k=3\n",
    "\n",
    "preds = cl.predict(X_train, k+1, exclude_nearest=True) # !\n",
    "accuracy = accuracy_score(y_train, preds)\n",
    "\n",
    "print(preds, accuracy)"
   ]
  },
  {
   "cell_type": "code",
   "execution_count": 139,
   "metadata": {},
   "outputs": [],
   "source": [
    "# For brute increasing p from 2 to 8 gives almost no increase in time, interesting.."
   ]
  },
  {
   "cell_type": "markdown",
   "metadata": {},
   "source": [
    "### (e)"
   ]
  },
  {
   "cell_type": "code",
   "execution_count": 140,
   "metadata": {},
   "outputs": [],
   "source": [
    "colnames = [\"dig\"] + [i for i in range(1, 28*28+1)]\n",
    "trainf = pd.read_csv(\"MNIST_train.csv\", names=colnames)"
   ]
  },
  {
   "cell_type": "code",
   "execution_count": 141,
   "metadata": {},
   "outputs": [],
   "source": [
    "X_trainf = trainf.values[:, 1:]\n",
    "y_trainf = trainf.values[:, 0]"
   ]
  },
  {
   "cell_type": "code",
   "execution_count": 142,
   "metadata": {},
   "outputs": [
    {
     "data": {
      "text/plain": [
       "(60000, 784)"
      ]
     },
     "execution_count": 142,
     "metadata": {},
     "output_type": "execute_result"
    }
   ],
   "source": [
    "X_trainf.shape"
   ]
  },
  {
   "cell_type": "code",
   "execution_count": 143,
   "metadata": {},
   "outputs": [],
   "source": [
    "# Euclidean distance chosen, because for p=8 it is too long to wait"
   ]
  },
  {
   "cell_type": "code",
   "execution_count": 144,
   "metadata": {},
   "outputs": [],
   "source": [
    "clf = knn.KNN(algorithm='kd_tree', p=2) # 'brute'\n",
    "clf.fit(X_trainf, y_trainf)"
   ]
  },
  {
   "cell_type": "code",
   "execution_count": null,
   "metadata": {},
   "outputs": [
    {
     "data": {
      "application/vnd.jupyter.widget-view+json": {
       "model_id": "12df33100b1342839ae92e5a81bfe759",
       "version_major": 2,
       "version_minor": 0
      },
      "text/plain": [
       "HBox(children=(IntProgress(value=0, max=20), HTML(value='')))"
      ]
     },
     "metadata": {},
     "output_type": "display_data"
    }
   ],
   "source": [
    "ks = range(1, 21)\n",
    "accs = []\n",
    "loss_values = []\n",
    "\n",
    "for k in tqdm_notebook(ks):\n",
    "    preds = clf.predict(X_trainf, k+1, exclude_nearest=True) # !\n",
    "    accuracy = accuracy_score(y_trainf, preds)\n",
    "\n",
    "    accs.append(accuracy)\n",
    "    loss_values.append(1-accuracy)"
   ]
  },
  {
   "cell_type": "code",
   "execution_count": null,
   "metadata": {},
   "outputs": [],
   "source": [
    "# LOOCV accuracy/loss for FULL train set\n",
    "tab_e = pd.DataFrame(data={\"k\": ks, \"LOOCV full train accuracy\": accs, \"LOOCV full train loss\": loss_values})\n",
    "tab_e"
   ]
  },
  {
   "cell_type": "code",
   "execution_count": null,
   "metadata": {},
   "outputs": [],
   "source": [
    "fig, ax = plt.subplots()\n",
    "plt.title(\"Empirical loss for full train set using LOOCV\");\n",
    "plt.plot(ks, tab_e['Test loss'], '-o', label='test loss');\n",
    "plt.plot(ks, tab_e['loss'], '-o', label='loocv loss');\n",
    "plt.legend();\n",
    "ax.xaxis.set_major_locator(MaxNLocator(integer=True))\n",
    "plt.xlabel('k');\n",
    "plt.ylabel('loss');"
   ]
  }
 ],
 "metadata": {
  "kernelspec": {
   "display_name": "Python 3",
   "language": "python",
   "name": "python3"
  },
  "language_info": {
   "codemirror_mode": {
    "name": "ipython",
    "version": 3
   },
   "file_extension": ".py",
   "mimetype": "text/x-python",
   "name": "python",
   "nbconvert_exporter": "python",
   "pygments_lexer": "ipython3",
   "version": "3.7.3"
  }
 },
 "nbformat": 4,
 "nbformat_minor": 2
}
