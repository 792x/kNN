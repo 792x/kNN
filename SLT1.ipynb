{
 "cells": [
  {
   "cell_type": "code",
   "execution_count": 1,
   "metadata": {},
   "outputs": [],
   "source": [
    "import pandas as pd\n",
    "import numpy as np\n",
    "import matplotlib.pyplot as plt\n",
    "import seaborn as sns\n",
    "import itertools\n",
    "from scipy.spatial import distance\n",
    "import warnings\n",
    "warnings.simplefilter('ignore')\n",
    "import time\n",
    "import datetime\n",
    "\n",
    "from IPython.display import clear_output, Image\n",
    "from sklearn.preprocessing import StandardScaler\n",
    "from sklearn.metrics import confusion_matrix \n",
    "from tqdm import tqdm, tqdm_notebook, trange\n",
    "\n",
    "from sklearn.linear_model import Ridge, LinearRegression\n",
    "from sklearn.preprocessing import StandardScaler\n",
    "\n",
    "from sklearn.neighbors import KDTree, DistanceMetric\n",
    "from sklearn.metrics import accuracy_score\n",
    "\n",
    "pd.set_option('display.float_format', lambda x: '%.5f' % x)"
   ]
  },
  {
   "cell_type": "code",
   "execution_count": 307,
   "metadata": {},
   "outputs": [],
   "source": [
    "#train_full = pd.read_csv(\"MNIST_train.csv\")\n",
    "\n",
    "colnames = [\"dig\"] + [i for i in range(1, 28*28+1)]\n",
    "train = pd.read_csv(\"MNIST_train_small.csv\", names=colnames)\n",
    "test = pd.read_csv(\"MNIST_test_small.csv\", names=colnames)"
   ]
  },
  {
   "cell_type": "code",
   "execution_count": 308,
   "metadata": {},
   "outputs": [
    {
     "data": {
      "text/html": [
       "<div>\n",
       "<style scoped>\n",
       "    .dataframe tbody tr th:only-of-type {\n",
       "        vertical-align: middle;\n",
       "    }\n",
       "\n",
       "    .dataframe tbody tr th {\n",
       "        vertical-align: top;\n",
       "    }\n",
       "\n",
       "    .dataframe thead th {\n",
       "        text-align: right;\n",
       "    }\n",
       "</style>\n",
       "<table border=\"1\" class=\"dataframe\">\n",
       "  <thead>\n",
       "    <tr style=\"text-align: right;\">\n",
       "      <th></th>\n",
       "      <th>dig</th>\n",
       "      <th>1</th>\n",
       "      <th>2</th>\n",
       "      <th>3</th>\n",
       "      <th>4</th>\n",
       "      <th>5</th>\n",
       "      <th>6</th>\n",
       "      <th>7</th>\n",
       "      <th>8</th>\n",
       "      <th>9</th>\n",
       "      <th>...</th>\n",
       "      <th>775</th>\n",
       "      <th>776</th>\n",
       "      <th>777</th>\n",
       "      <th>778</th>\n",
       "      <th>779</th>\n",
       "      <th>780</th>\n",
       "      <th>781</th>\n",
       "      <th>782</th>\n",
       "      <th>783</th>\n",
       "      <th>784</th>\n",
       "    </tr>\n",
       "  </thead>\n",
       "  <tbody>\n",
       "    <tr>\n",
       "      <th>0</th>\n",
       "      <td>6</td>\n",
       "      <td>0</td>\n",
       "      <td>0</td>\n",
       "      <td>0</td>\n",
       "      <td>0</td>\n",
       "      <td>0</td>\n",
       "      <td>0</td>\n",
       "      <td>0</td>\n",
       "      <td>0</td>\n",
       "      <td>0</td>\n",
       "      <td>...</td>\n",
       "      <td>0</td>\n",
       "      <td>0</td>\n",
       "      <td>0</td>\n",
       "      <td>0</td>\n",
       "      <td>0</td>\n",
       "      <td>0</td>\n",
       "      <td>0</td>\n",
       "      <td>0</td>\n",
       "      <td>0</td>\n",
       "      <td>0</td>\n",
       "    </tr>\n",
       "    <tr>\n",
       "      <th>1</th>\n",
       "      <td>3</td>\n",
       "      <td>0</td>\n",
       "      <td>0</td>\n",
       "      <td>0</td>\n",
       "      <td>0</td>\n",
       "      <td>0</td>\n",
       "      <td>0</td>\n",
       "      <td>0</td>\n",
       "      <td>0</td>\n",
       "      <td>0</td>\n",
       "      <td>...</td>\n",
       "      <td>0</td>\n",
       "      <td>0</td>\n",
       "      <td>0</td>\n",
       "      <td>0</td>\n",
       "      <td>0</td>\n",
       "      <td>0</td>\n",
       "      <td>0</td>\n",
       "      <td>0</td>\n",
       "      <td>0</td>\n",
       "      <td>0</td>\n",
       "    </tr>\n",
       "    <tr>\n",
       "      <th>2</th>\n",
       "      <td>9</td>\n",
       "      <td>0</td>\n",
       "      <td>0</td>\n",
       "      <td>0</td>\n",
       "      <td>0</td>\n",
       "      <td>0</td>\n",
       "      <td>0</td>\n",
       "      <td>0</td>\n",
       "      <td>0</td>\n",
       "      <td>0</td>\n",
       "      <td>...</td>\n",
       "      <td>0</td>\n",
       "      <td>0</td>\n",
       "      <td>0</td>\n",
       "      <td>0</td>\n",
       "      <td>0</td>\n",
       "      <td>0</td>\n",
       "      <td>0</td>\n",
       "      <td>0</td>\n",
       "      <td>0</td>\n",
       "      <td>0</td>\n",
       "    </tr>\n",
       "    <tr>\n",
       "      <th>3</th>\n",
       "      <td>3</td>\n",
       "      <td>0</td>\n",
       "      <td>0</td>\n",
       "      <td>0</td>\n",
       "      <td>0</td>\n",
       "      <td>0</td>\n",
       "      <td>0</td>\n",
       "      <td>0</td>\n",
       "      <td>0</td>\n",
       "      <td>0</td>\n",
       "      <td>...</td>\n",
       "      <td>0</td>\n",
       "      <td>0</td>\n",
       "      <td>0</td>\n",
       "      <td>0</td>\n",
       "      <td>0</td>\n",
       "      <td>0</td>\n",
       "      <td>0</td>\n",
       "      <td>0</td>\n",
       "      <td>0</td>\n",
       "      <td>0</td>\n",
       "    </tr>\n",
       "    <tr>\n",
       "      <th>4</th>\n",
       "      <td>1</td>\n",
       "      <td>0</td>\n",
       "      <td>0</td>\n",
       "      <td>0</td>\n",
       "      <td>0</td>\n",
       "      <td>0</td>\n",
       "      <td>0</td>\n",
       "      <td>0</td>\n",
       "      <td>0</td>\n",
       "      <td>0</td>\n",
       "      <td>...</td>\n",
       "      <td>0</td>\n",
       "      <td>0</td>\n",
       "      <td>0</td>\n",
       "      <td>0</td>\n",
       "      <td>0</td>\n",
       "      <td>0</td>\n",
       "      <td>0</td>\n",
       "      <td>0</td>\n",
       "      <td>0</td>\n",
       "      <td>0</td>\n",
       "    </tr>\n",
       "  </tbody>\n",
       "</table>\n",
       "<p>5 rows × 785 columns</p>\n",
       "</div>"
      ],
      "text/plain": [
       "   dig  1  2  3  4  5  6  7  8  9  ...  775  776  777  778  779  780  781  \\\n",
       "0    6  0  0  0  0  0  0  0  0  0  ...    0    0    0    0    0    0    0   \n",
       "1    3  0  0  0  0  0  0  0  0  0  ...    0    0    0    0    0    0    0   \n",
       "2    9  0  0  0  0  0  0  0  0  0  ...    0    0    0    0    0    0    0   \n",
       "3    3  0  0  0  0  0  0  0  0  0  ...    0    0    0    0    0    0    0   \n",
       "4    1  0  0  0  0  0  0  0  0  0  ...    0    0    0    0    0    0    0   \n",
       "\n",
       "   782  783  784  \n",
       "0    0    0    0  \n",
       "1    0    0    0  \n",
       "2    0    0    0  \n",
       "3    0    0    0  \n",
       "4    0    0    0  \n",
       "\n",
       "[5 rows x 785 columns]"
      ]
     },
     "execution_count": 308,
     "metadata": {},
     "output_type": "execute_result"
    }
   ],
   "source": [
    "train.head()"
   ]
  },
  {
   "cell_type": "raw",
   "metadata": {},
   "source": [
    "test.head()"
   ]
  },
  {
   "cell_type": "code",
   "execution_count": 322,
   "metadata": {},
   "outputs": [
    {
     "data": {
      "text/plain": [
       "((3000, 785), (1000, 785))"
      ]
     },
     "execution_count": 322,
     "metadata": {},
     "output_type": "execute_result"
    }
   ],
   "source": [
    "train.shape, test.shape"
   ]
  },
  {
   "cell_type": "raw",
   "metadata": {},
   "source": [
    "def get_nearest_neighbors_winner(train_data, vector, k):\n",
    "    distances = []\n",
    "    \n",
    "    for train_digit in tqdm_notebook(train_data.values):\n",
    "        sum_squares = sum((vector - train_digit[1:])**2)\n",
    "        distances.append((sum_squares, train_digit[0]))\n",
    "    \n",
    "    k_smallest_distances = sorted(distances, key=lambda x: x[0])[:k]\n",
    "    neighboring_digits = [x[1] for x in k_smallest_distances]\n",
    "    predictied_digit = pd.value_counts(neighboring_digits).sort_values(ascending=False).index[0]\n",
    "    \n",
    "    return predictied_digit"
   ]
  },
  {
   "cell_type": "raw",
   "metadata": {},
   "source": [
    "def predict(train_data, test_data, k):\n",
    "    predictions = []\n",
    "    \n",
    "    for test_digit in tqdm_notebook(test.values[:100]):\n",
    "        pred = get_nearest_neighbors_winner(train_data, test_digit[1:], k)\n",
    "        predictions.append((test_digit[0], pred))\n",
    "\n",
    "    return predictions"
   ]
  },
  {
   "cell_type": "raw",
   "metadata": {},
   "source": [
    "preds = predict(train, test, 5)"
   ]
  },
  {
   "cell_type": "raw",
   "metadata": {},
   "source": [
    "res_naive = pd.DataFrame(preds, columns = ['actual', 'pred'])"
   ]
  },
  {
   "cell_type": "raw",
   "metadata": {},
   "source": [
    "accuracy_score(res_naive['actual'], res_naive['pred'])"
   ]
  },
  {
   "cell_type": "markdown",
   "metadata": {},
   "source": [
    "Implementation with a KDTree"
   ]
  },
  {
   "cell_type": "raw",
   "metadata": {},
   "source": [
    "tree = KDTree(train.values[:,1:], metric=DistanceMetric.get_metric(\"minkowski\", p=2))"
   ]
  },
  {
   "cell_type": "code",
   "execution_count": 365,
   "metadata": {},
   "outputs": [],
   "source": [
    "def predict_with_KDtree(train_data, test_data, k, p):\n",
    "\n",
    "    tree = KDTree(train_data[:,1:], metric=DistanceMetric.get_metric(\"minkowski\", p=p))\n",
    "    actual = []\n",
    "    predictions = []\n",
    "    \n",
    "    for test_digit in test_data:\n",
    "        _, ind = tree.query(test_digit[1:].reshape(1, -1), k=k)\n",
    "        neighboring_digits = [dig[0] for dig in train.values[ind][0]]\n",
    "        predicted_digit = pd.value_counts(neighboring_digits).sort_values(ascending=False).index[0]\n",
    "        \n",
    "        actual.append(test_digit[0])\n",
    "        predictions.append(predicted_digit)\n",
    "\n",
    "    return actual, predictions"
   ]
  },
  {
   "cell_type": "code",
   "execution_count": 330,
   "metadata": {},
   "outputs": [],
   "source": [
    "# act, preds = predict_with_KDtree(train.values, test.values, 10, 2)"
   ]
  },
  {
   "cell_type": "code",
   "execution_count": 333,
   "metadata": {},
   "outputs": [
    {
     "name": "stderr",
     "output_type": "stream",
     "text": [
      "100%|██████████████████████████████████████████████████████████████████████████████████| 20/20 [04:02<00:00, 12.43s/it]\n"
     ]
    }
   ],
   "source": [
    "ks = range(1, 21)\n",
    "accs = []\n",
    "\n",
    "for k in tqdm(ks):\n",
    "    act, preds = predict_with_KDtree(train.values, test.values, k, 2)\n",
    "    accs.append(accuracy_score(act, preds))"
   ]
  },
  {
   "cell_type": "code",
   "execution_count": 340,
   "metadata": {},
   "outputs": [
    {
     "name": "stdout",
     "output_type": "stream",
     "text": [
      "The best accuracy (0.924) on the TEST set is achieved with k = 4 \n"
     ]
    },
    {
     "data": {
      "image/png": "[encoded data removed]",
      "text/plain": [
       "<Figure size 432x288 with 1 Axes>"
      ]
     },
     "metadata": {
      "needs_background": "light"
     },
     "output_type": "display_data"
    }
   ],
   "source": [
    "plt.plot(ks, accs);\n",
    "print(f\"The best accuracy ({max(accs)}) on the TEST set is achieved with k = {ks[np.argmax(accs)]} \")"
   ]
  },
  {
   "cell_type": "markdown",
   "metadata": {},
   "source": [
    "Leave-One-Out Cross-Validation"
   ]
  },
  {
   "cell_type": "raw",
   "metadata": {},
   "source": [
    "# for each k\n",
    "k = 1\n",
    "p = 2 # euclidean distance\n",
    "\n",
    "actual = []\n",
    "predictions = []\n",
    "\n",
    "for idx, train_digit in tqdm(enumerate(train.values)):\n",
    "    \n",
    "    train_except_one_row = np.delete(train.values, idx, 0)\n",
    "    \n",
    "    act, preds = predict_with_KDtree(train_except_one_row, train_digit.reshape(1, -1), k, p)\n",
    "    \n",
    "    actual.append(act[0])\n",
    "    predictions.append(preds[0])"
   ]
  },
  {
   "cell_type": "code",
   "execution_count": 376,
   "metadata": {},
   "outputs": [
    {
     "name": "stderr",
     "output_type": "stream",
     "text": [
      "\n",
      "\n",
      "  0%|                                                                                            | 0/1 [00:00<?, ?it/s]"
     ]
    },
    {
     "data": {
      "application/vnd.jupyter.widget-view+json": {
       "model_id": "38d5dbf43eaf4c209620548f79c277ff",
       "version_major": 2,
       "version_minor": 0
      },
      "text/plain": [
       "HBox(children=(IntProgress(value=0, max=3000), HTML(value='')))"
      ]
     },
     "metadata": {},
     "output_type": "display_data"
    },
    {
     "name": "stderr",
     "output_type": "stream",
     "text": [
      "\n",
      "\n",
      "100%|████████████████████████████████████████████████████████████████████████████████████| 1/1 [00:36<00:00, 36.74s/it]"
     ]
    }
   ],
   "source": [
    "p = 2 # euclidean distance\n",
    "tree = KDTree(train.values[:,1:], metric=DistanceMetric.get_metric(\"minkowski\", p=p))\n",
    "\n",
    "# for each k\n",
    "ks = [1,]#range(1, 21)\n",
    "accs = []\n",
    "\n",
    "for k in tqdm(ks):\n",
    "    for digit in tqdm_notebook(train.values):\n",
    "        _, ind = tree.query(digit[1:].reshape(1, -1), k=k+1)\n",
    "        neighboring_digits = [dig[0] for dig in train.values[ind][0]]\n",
    "        neighboring_digits = neighboring_digits[1:] # not including the digit itself\n",
    "        predicted_digit = pd.value_counts(neighboring_digits).sort_values(ascending=False).index[0]\n",
    "\n",
    "        actual.append(test_digit[0])\n",
    "        predictions.append(predicted_digit)\n",
    "\n",
    "    accs.append(accuracy_score(actual, predictions))"
   ]
  },
  {
   "cell_type": "code",
   "execution_count": 377,
   "metadata": {},
   "outputs": [
    {
     "data": {
      "text/plain": [
       "[0.1283872173425528]"
      ]
     },
     "execution_count": 377,
     "metadata": {},
     "output_type": "execute_result"
    }
   ],
   "source": [
    "accs"
   ]
  },
  {
   "cell_type": "code",
   "execution_count": null,
   "metadata": {},
   "outputs": [],
   "source": []
  },
  {
   "cell_type": "code",
   "execution_count": null,
   "metadata": {},
   "outputs": [],
   "source": []
  },
  {
   "cell_type": "markdown",
   "metadata": {},
   "source": [
    "# -------------------------"
   ]
  },
  {
   "cell_type": "raw",
   "metadata": {},
   "source": [
    "from collections import namedtuple\n",
    "from operator import itemgetter\n",
    "from pprint import pformat\n",
    "\n",
    "class Node(namedtuple('Node', 'location left_child right_child')):\n",
    "    def __repr__(self):\n",
    "        return pformat(tuple(self))\n",
    "\n",
    "def kdtree(point_list, depth: int = 0):\n",
    "    if not point_list:\n",
    "        return None\n",
    "\n",
    "    k = len(point_list[0]) # assumes all points have the same dimension\n",
    "    # Select axis based on depth so that axis cycles through all valid values\n",
    "    axis = depth % k\n",
    " \n",
    "    # Sort point list by axis and choose median as pivot element\n",
    "    point_list.sort(key=itemgetter(axis))\n",
    "    median = len(point_list) // 2\n",
    " \n",
    "    # Create node and construct subtrees\n",
    "    return Node(\n",
    "        location=point_list[median],\n",
    "        left_child=kdtree(point_list[:median], depth + 1),\n",
    "        right_child=kdtree(point_list[median + 1:], depth + 1)\n",
    "    )\n"
   ]
  }
 ],
 "metadata": {
  "kernelspec": {
   "display_name": "Python 3",
   "language": "python",
   "name": "python3"
  },
  "language_info": {
   "codemirror_mode": {
    "name": "ipython",
    "version": 3
   },
   "file_extension": ".py",
   "mimetype": "text/x-python",
   "name": "python",
   "nbconvert_exporter": "python",
   "pygments_lexer": "ipython3",
   "version": "3.7.3"
  }
 },
 "nbformat": 4,
 "nbformat_minor": 2
}
